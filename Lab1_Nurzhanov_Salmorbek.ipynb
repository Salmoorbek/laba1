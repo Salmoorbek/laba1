{
 "cells": [
  {
   "cell_type": "code",
   "execution_count": 1,
   "id": "initial_id",
   "metadata": {
    "collapsed": true,
    "ExecuteTime": {
     "end_time": "2023-09-21T06:38:11.350044Z",
     "start_time": "2023-09-21T06:38:10.847860Z"
    }
   },
   "outputs": [
    {
     "name": "stdout",
     "output_type": "stream",
     "text": [
      "hello\n"
     ]
    }
   ],
   "source": [
    "print('hello')"
   ]
  },
  {
   "cell_type": "code",
   "execution_count": 2,
   "outputs": [
    {
     "name": "stdout",
     "output_type": "stream",
     "text": [
      "2\n"
     ]
    }
   ],
   "source": [
    "i = 2\n",
    "print(i)"
   ],
   "metadata": {
    "collapsed": false,
    "ExecuteTime": {
     "end_time": "2023-09-21T06:38:29.002350Z",
     "start_time": "2023-09-21T06:38:28.948989Z"
    }
   },
   "id": "66b33c65b546b167"
  },
  {
   "cell_type": "code",
   "execution_count": 3,
   "outputs": [
    {
     "data": {
      "text/plain": "68"
     },
     "execution_count": 3,
     "metadata": {},
     "output_type": "execute_result"
    }
   ],
   "source": [
    "45+23"
   ],
   "metadata": {
    "collapsed": false,
    "ExecuteTime": {
     "end_time": "2023-09-21T06:38:54.050700Z",
     "start_time": "2023-09-21T06:38:53.957847Z"
    }
   },
   "id": "9baa07f14c09657e"
  },
  {
   "cell_type": "code",
   "execution_count": 5,
   "outputs": [
    {
     "name": "stdout",
     "output_type": "stream",
     "text": [
      "6\n"
     ]
    }
   ],
   "source": [
    "c = i + 4\n",
    "print(c)"
   ],
   "metadata": {
    "collapsed": false,
    "ExecuteTime": {
     "end_time": "2023-09-21T06:39:22.143662Z",
     "start_time": "2023-09-21T06:39:22.135784Z"
    }
   },
   "id": "f02764748b6cce0b"
  },
  {
   "cell_type": "code",
   "execution_count": 6,
   "outputs": [
    {
     "name": "stdout",
     "output_type": "stream",
     "text": [
      "<class 'int'>\n"
     ]
    }
   ],
   "source": [
    "a = 4\n",
    "t = type(a)\n",
    "print(t)"
   ],
   "metadata": {
    "collapsed": false,
    "ExecuteTime": {
     "end_time": "2023-09-21T06:39:50.467530Z",
     "start_time": "2023-09-21T06:39:50.425117Z"
    }
   },
   "id": "fd253a32cf7973ea"
  },
  {
   "cell_type": "code",
   "execution_count": 7,
   "outputs": [
    {
     "data": {
      "text/plain": "int"
     },
     "execution_count": 7,
     "metadata": {},
     "output_type": "execute_result"
    }
   ],
   "source": [
    "i = 5\n",
    "type(i)"
   ],
   "metadata": {
    "collapsed": false,
    "ExecuteTime": {
     "end_time": "2023-09-21T06:40:16.985381Z",
     "start_time": "2023-09-21T06:40:16.944990Z"
    }
   },
   "id": "2ba7e478b1da07a0"
  },
  {
   "cell_type": "code",
   "execution_count": 8,
   "outputs": [
    {
     "data": {
      "text/plain": "float"
     },
     "execution_count": 8,
     "metadata": {},
     "output_type": "execute_result"
    }
   ],
   "source": [
    "f = 4.1\n",
    "type(f)"
   ],
   "metadata": {
    "collapsed": false,
    "ExecuteTime": {
     "end_time": "2023-09-21T06:40:36.283658Z",
     "start_time": "2023-09-21T06:40:36.235053Z"
    }
   },
   "id": "ed6c4b9b5054174c"
  },
  {
   "cell_type": "code",
   "execution_count": 10,
   "outputs": [
    {
     "name": "stdout",
     "output_type": "stream",
     "text": [
      "This is a strong\n"
     ]
    }
   ],
   "source": [
    "b = True\n",
    "s = \"This is a strong\"\n",
    "print(s)"
   ],
   "metadata": {
    "collapsed": false,
    "ExecuteTime": {
     "end_time": "2023-09-21T06:41:11.797686Z",
     "start_time": "2023-09-21T06:41:11.788892Z"
    }
   },
   "id": "d4b8a8ed060b906a"
  },
  {
   "cell_type": "code",
   "execution_count": 11,
   "outputs": [
    {
     "name": "stdout",
     "output_type": "stream",
     "text": [
      "[3, 1, 2]\n"
     ]
    }
   ],
   "source": [
    "l = [3,1,2]\n",
    "print(l)"
   ],
   "metadata": {
    "collapsed": false,
    "ExecuteTime": {
     "end_time": "2023-09-21T06:41:53.074980Z",
     "start_time": "2023-09-21T06:41:53.043007Z"
    }
   },
   "id": "a1dde5a9dcfd233c"
  },
  {
   "cell_type": "code",
   "execution_count": 13,
   "outputs": [],
   "source": [
    "d = {'foo':1, 'bar':2.3, 's':'my first dict'}"
   ],
   "metadata": {
    "collapsed": false,
    "ExecuteTime": {
     "end_time": "2023-09-21T06:42:41.712670Z",
     "start_time": "2023-09-21T06:42:41.704275Z"
    }
   },
   "id": "d98d25b8d745b2d8"
  },
  {
   "cell_type": "code",
   "execution_count": 14,
   "outputs": [
    {
     "name": "stdout",
     "output_type": "stream",
     "text": [
      "{'foo': 1, 'bar': 2.3, 's': 'my first dict'}\n"
     ]
    }
   ],
   "source": [
    "print(d)\n"
   ],
   "metadata": {
    "collapsed": false,
    "ExecuteTime": {
     "end_time": "2023-09-21T06:42:54.078794Z",
     "start_time": "2023-09-21T06:42:54.049060Z"
    }
   },
   "id": "8518359afbb7f104"
  },
  {
   "cell_type": "code",
   "execution_count": 15,
   "outputs": [
    {
     "name": "stdout",
     "output_type": "stream",
     "text": [
      "1\n"
     ]
    }
   ],
   "source": [
    "print(d['foo'])"
   ],
   "metadata": {
    "collapsed": false,
    "ExecuteTime": {
     "end_time": "2023-09-21T06:43:09.864999Z",
     "start_time": "2023-09-21T06:43:09.783179Z"
    }
   },
   "id": "fb99e18b13bb38ad"
  },
  {
   "cell_type": "code",
   "execution_count": 16,
   "outputs": [
    {
     "name": "stdout",
     "output_type": "stream",
     "text": [
      "None\n"
     ]
    }
   ],
   "source": [
    "n = None\n",
    "print(n)"
   ],
   "metadata": {
    "collapsed": false,
    "ExecuteTime": {
     "end_time": "2023-09-21T06:43:23.187757Z",
     "start_time": "2023-09-21T06:43:23.157216Z"
    }
   },
   "id": "24f6807abd1065d1"
  },
  {
   "cell_type": "code",
   "execution_count": 17,
   "outputs": [
    {
     "name": "stdout",
     "output_type": "stream",
     "text": [
      "Возведение числа 10 в квадрат 100.0\n"
     ]
    }
   ],
   "source": [
    "import math\n",
    "p=math.pow(10,2)\n",
    "print('Возведение числа 10 в квадрат',p)"
   ],
   "metadata": {
    "collapsed": false,
    "ExecuteTime": {
     "end_time": "2023-09-21T06:44:48.615325Z",
     "start_time": "2023-09-21T06:44:48.407208Z"
    }
   },
   "id": "85df692a65ea8f9b"
  },
  {
   "cell_type": "code",
   "execution_count": 18,
   "outputs": [
    {
     "name": "stdout",
     "output_type": "stream",
     "text": [
      "Out first values is False. Our second values is 7.\n"
     ]
    }
   ],
   "source": [
    "i = 7\n",
    "n = False\n",
    "print('Out first values is %s. Our second values is %s.' %(n,i))"
   ],
   "metadata": {
    "collapsed": false,
    "ExecuteTime": {
     "end_time": "2023-09-21T06:46:01.580296Z",
     "start_time": "2023-09-21T06:46:01.495106Z"
    }
   },
   "id": "5018670683aee2f9"
  },
  {
   "cell_type": "code",
   "execution_count": 22,
   "outputs": [
    {
     "name": "stdout",
     "output_type": "stream",
     "text": [
      "i or f are both greater than 3.\n"
     ]
    }
   ],
   "source": [
    "i=3\n",
    "f=3.2\n",
    "if i == 1 and f > 3:\n",
    "    print (\"The value of i is 1 and f is greater than 3.\")\n",
    "elif i > 3 or f > 3:\n",
    "    print (\"i or f are both greater than 3.\")\n",
    "else:\n",
    "    print(\"both i and f are less than or equal to 3\")"
   ],
   "metadata": {
    "collapsed": false,
    "ExecuteTime": {
     "end_time": "2023-09-21T06:48:10.032062Z",
     "start_time": "2023-09-21T06:48:10.016554Z"
    }
   },
   "id": "dc0e23ec91292e8e"
  },
  {
   "cell_type": "code",
   "execution_count": 23,
   "outputs": [
    {
     "name": "stdout",
     "output_type": "stream",
     "text": [
      "[3, 2, 1]\n"
     ]
    }
   ],
   "source": [
    "l = [3,2,1]\n",
    "print(l)"
   ],
   "metadata": {
    "collapsed": false,
    "ExecuteTime": {
     "end_time": "2023-09-21T06:48:37.340126Z",
     "start_time": "2023-09-21T06:48:37.300278Z"
    }
   },
   "id": "d16f67ff46f484b"
  },
  {
   "cell_type": "code",
   "execution_count": 25,
   "outputs": [
    {
     "name": "stdout",
     "output_type": "stream",
     "text": [
      "3\n",
      "2\n",
      "1\n"
     ]
    }
   ],
   "source": [
    "for e in l:\n",
    "    print(e)"
   ],
   "metadata": {
    "collapsed": false,
    "ExecuteTime": {
     "end_time": "2023-09-21T06:49:09.277211Z",
     "start_time": "2023-09-21T06:49:09.263441Z"
    }
   },
   "id": "7a0e7910095341ee"
  },
  {
   "cell_type": "code",
   "execution_count": 26,
   "outputs": [
    {
     "name": "stdout",
     "output_type": "stream",
     "text": [
      "Это число от 0 до 99:  0\n",
      "Это число от 0 до 99:  1\n",
      "Это число от 0 до 99:  2\n",
      "Это число от 0 до 99:  3\n",
      "Это число от 0 до 99:  4\n",
      "Это число от 0 до 99:  5\n",
      "Это число от 0 до 99:  6\n",
      "Это число от 0 до 99:  7\n",
      "Это число от 0 до 99:  8\n",
      "Это число от 0 до 99:  9\n",
      "Это число от 0 до 99:  10\n",
      "Это число от 0 до 99:  11\n",
      "Это число от 0 до 99:  12\n",
      "Это число от 0 до 99:  13\n",
      "Это число от 0 до 99:  14\n",
      "Это число от 0 до 99:  15\n",
      "Это число от 0 до 99:  16\n",
      "Это число от 0 до 99:  17\n",
      "Это число от 0 до 99:  18\n",
      "Это число от 0 до 99:  19\n",
      "Это число от 0 до 99:  20\n",
      "Это число от 0 до 99:  21\n",
      "Это число от 0 до 99:  22\n",
      "Это число от 0 до 99:  23\n",
      "Это число от 0 до 99:  24\n",
      "Это число от 0 до 99:  25\n",
      "Это число от 0 до 99:  26\n",
      "Это число от 0 до 99:  27\n",
      "Это число от 0 до 99:  28\n",
      "Это число от 0 до 99:  29\n",
      "Это число от 0 до 99:  30\n",
      "Это число от 0 до 99:  31\n",
      "Это число от 0 до 99:  32\n",
      "Это число от 0 до 99:  33\n",
      "Это число от 0 до 99:  34\n",
      "Это число от 0 до 99:  35\n",
      "Это число от 0 до 99:  36\n",
      "Это число от 0 до 99:  37\n",
      "Это число от 0 до 99:  38\n",
      "Это число от 0 до 99:  39\n",
      "Это число от 0 до 99:  40\n",
      "Это число от 0 до 99:  41\n",
      "Это число от 0 до 99:  42\n",
      "Это число от 0 до 99:  43\n",
      "Это число от 0 до 99:  44\n",
      "Это число от 0 до 99:  45\n",
      "Это число от 0 до 99:  46\n",
      "Это число от 0 до 99:  47\n",
      "Это число от 0 до 99:  48\n",
      "Это число от 0 до 99:  49\n",
      "Это число от 0 до 99:  50\n",
      "Это число от 0 до 99:  51\n",
      "Это число от 0 до 99:  52\n",
      "Это число от 0 до 99:  53\n",
      "Это число от 0 до 99:  54\n",
      "Это число от 0 до 99:  55\n",
      "Это число от 0 до 99:  56\n",
      "Это число от 0 до 99:  57\n",
      "Это число от 0 до 99:  58\n",
      "Это число от 0 до 99:  59\n",
      "Это число от 0 до 99:  60\n",
      "Это число от 0 до 99:  61\n",
      "Это число от 0 до 99:  62\n",
      "Это число от 0 до 99:  63\n",
      "Это число от 0 до 99:  64\n",
      "Это число от 0 до 99:  65\n",
      "Это число от 0 до 99:  66\n",
      "Это число от 0 до 99:  67\n",
      "Это число от 0 до 99:  68\n",
      "Это число от 0 до 99:  69\n",
      "Это число от 0 до 99:  70\n",
      "Это число от 0 до 99:  71\n",
      "Это число от 0 до 99:  72\n",
      "Это число от 0 до 99:  73\n",
      "Это число от 0 до 99:  74\n",
      "Это число от 0 до 99:  75\n",
      "Это число от 0 до 99:  76\n",
      "Это число от 0 до 99:  77\n",
      "Это число от 0 до 99:  78\n",
      "Это число от 0 до 99:  79\n",
      "Это число от 0 до 99:  80\n",
      "Это число от 0 до 99:  81\n",
      "Это число от 0 до 99:  82\n",
      "Это число от 0 до 99:  83\n",
      "Это число от 0 до 99:  84\n",
      "Это число от 0 до 99:  85\n",
      "Это число от 0 до 99:  86\n",
      "Это число от 0 до 99:  87\n",
      "Это число от 0 до 99:  88\n",
      "Это число от 0 до 99:  89\n",
      "Это число от 0 до 99:  90\n",
      "Это число от 0 до 99:  91\n",
      "Это число от 0 до 99:  92\n",
      "Это число от 0 до 99:  93\n",
      "Это число от 0 до 99:  94\n",
      "Это число от 0 до 99:  95\n",
      "Это число от 0 до 99:  96\n",
      "Это число от 0 до 99:  97\n",
      "Это число от 0 до 99:  98\n",
      "Это число от 0 до 99:  99\n"
     ]
    }
   ],
   "source": [
    "for n in range(100):\n",
    "    print('Это число от 0 до 99: ', n)"
   ],
   "metadata": {
    "collapsed": false,
    "ExecuteTime": {
     "end_time": "2023-09-21T06:49:56.164144Z",
     "start_time": "2023-09-21T06:49:56.123893Z"
    }
   },
   "id": "54deee5c36668ac9"
  },
  {
   "cell_type": "code",
   "execution_count": 44,
   "outputs": [
    {
     "name": "stdout",
     "output_type": "stream",
     "text": [
      "Number:  0\n",
      "Number:  1\n",
      "Number:  2\n",
      "Number:  3\n",
      "Number:  4\n",
      "Number:  5\n",
      "Number:  6\n",
      "Number:  7\n",
      "Number:  8\n",
      "Number:  9\n",
      "Number:  10\n",
      "Number:  11\n",
      "Number:  12\n",
      "Number:  13\n",
      "Number:  14\n",
      "Number:  15\n",
      "Number:  16\n",
      "Number:  17\n",
      "Number:  18\n",
      "Number:  19\n",
      "Number:  20\n",
      "Number:  21\n",
      "Number:  22\n",
      "Number:  23\n",
      "Number:  24\n"
     ]
    }
   ],
   "source": [
    "import time\n",
    "for n in range(25):\n",
    "    time.sleep(1)\n",
    "    print('Number: ', n)"
   ],
   "metadata": {
    "collapsed": false,
    "ExecuteTime": {
     "end_time": "2023-09-21T07:33:17.437608Z",
     "start_time": "2023-09-21T07:32:52.306735Z"
    }
   },
   "id": "ff6f8458d63b9515"
  },
  {
   "cell_type": "code",
   "execution_count": 29,
   "outputs": [
    {
     "name": "stdout",
     "output_type": "stream",
     "text": [
      "6\n",
      "7\n",
      "8\n",
      "9\n"
     ]
    }
   ],
   "source": [
    "counter = 6\n",
    "while counter < 10:\n",
    "    print(counter)\n",
    "    counter += 1"
   ],
   "metadata": {
    "collapsed": false,
    "ExecuteTime": {
     "end_time": "2023-09-21T06:52:11.986567Z",
     "start_time": "2023-09-21T06:52:11.971833Z"
    }
   },
   "id": "bbf8214ed543205e"
  },
  {
   "cell_type": "code",
   "execution_count": 33,
   "outputs": [
    {
     "data": {
      "text/plain": "7"
     },
     "execution_count": 33,
     "metadata": {},
     "output_type": "execute_result"
    }
   ],
   "source": [
    "def add2(x):\n",
    "    y = x + 2\n",
    "    return y\n",
    "\n",
    "i = 5\n",
    "add2(i)"
   ],
   "metadata": {
    "collapsed": false,
    "ExecuteTime": {
     "end_time": "2023-09-21T06:53:18.807555Z",
     "start_time": "2023-09-21T06:53:18.789200Z"
    }
   },
   "id": "5fdfb26a7e96bdb9"
  },
  {
   "cell_type": "code",
   "execution_count": 36,
   "outputs": [
    {
     "data": {
      "text/plain": "49"
     },
     "execution_count": 36,
     "metadata": {},
     "output_type": "execute_result"
    }
   ],
   "source": [
    "square = lambda x: x*x\n",
    "square(7)"
   ],
   "metadata": {
    "collapsed": false,
    "ExecuteTime": {
     "end_time": "2023-09-21T06:54:28.891326Z",
     "start_time": "2023-09-21T06:54:28.880034Z"
    }
   },
   "id": "95e3bfa31f327fd2"
  },
  {
   "cell_type": "code",
   "execution_count": 35,
   "outputs": [
    {
     "name": "stdout",
     "output_type": "stream",
     "text": [
      "12\n"
     ]
    }
   ],
   "source": [
    "x = lambda a,b : a*b\n",
    "print(x(3,4))"
   ],
   "metadata": {
    "collapsed": false,
    "ExecuteTime": {
     "end_time": "2023-09-21T06:54:24.994140Z",
     "start_time": "2023-09-21T06:54:24.665194Z"
    }
   },
   "id": "52e795ba4e09c838"
  },
  {
   "cell_type": "code",
   "execution_count": 38,
   "outputs": [
    {
     "name": "stdout",
     "output_type": "stream",
     "text": [
      "67\n"
     ]
    }
   ],
   "source": [
    "x = lambda a, b, c: a + b + c\n",
    "print (x(23, 32, 12))"
   ],
   "metadata": {
    "collapsed": false,
    "ExecuteTime": {
     "end_time": "2023-09-21T06:55:34.946864Z",
     "start_time": "2023-09-21T06:55:34.790697Z"
    }
   },
   "id": "65234d70085b772f"
  },
  {
   "cell_type": "markdown",
   "source": [
    "<h1> Heading 1 </h1>\n",
    "<h2> Heading 2 </h2>\n",
    "<h3> Heading 3 </h3>\n",
    "<h4> Heading 4 </h4> \n",
    "<h5> Heading 5 </h5>\n",
    "<h6> Heading 6 </h6>"
   ],
   "metadata": {
    "collapsed": false
   },
   "id": "837593ec87f26d11"
  },
  {
   "cell_type": "markdown",
   "source": [
    "<img src='jupyter.jpg' width='800'>"
   ],
   "metadata": {
    "collapsed": false
   },
   "id": "3834d9c1b3e561e3"
  },
  {
   "cell_type": "markdown",
   "source": [
    "\\begin{equation*} \n",
    "\\left(sum_{k=1}^n a_k b_k\\right) ^2\n",
    "\\end{equation*}"
   ],
   "metadata": {
    "collapsed": false
   },
   "id": "2fe0ac09371c2f70"
  },
  {
   "cell_type": "markdown",
   "source": [
    "\\begin{equation*}\n",
    "\\(E=mc^2\\)\n",
    "\\end{equation*}"
   ],
   "metadata": {
    "collapsed": false
   },
   "id": "e2afb8a3998a9616"
  },
  {
   "cell_type": "code",
   "execution_count": 41,
   "outputs": [
    {
     "name": "stdout",
     "output_type": "stream",
     "text": [
      "usage: ipconfig <command> <args>\r\n",
      "where <command> is one of waitall, getifaddr, ifcount, getoption, getiflist, getsummary, getpacket, getv6packet, getra, getdhcpduid, getdhcpiaid, set, setverbose\r\n"
     ]
    }
   ],
   "source": [
    "! ipconfig"
   ],
   "metadata": {
    "collapsed": false,
    "ExecuteTime": {
     "end_time": "2023-09-21T07:04:07.640714Z",
     "start_time": "2023-09-21T07:04:07.346540Z"
    }
   },
   "id": "25c49fcea49fd39e"
  },
  {
   "cell_type": "code",
   "execution_count": 42,
   "outputs": [
    {
     "name": "stdout",
     "output_type": "stream",
     "text": [
      "PING google.com (216.58.210.142): 56 data bytes\r\n",
      "64 bytes from 216.58.210.142: icmp_seq=0 ttl=56 time=109.034 ms\r\n",
      "64 bytes from 216.58.210.142: icmp_seq=1 ttl=56 time=159.781 ms\r\n",
      "64 bytes from 216.58.210.142: icmp_seq=2 ttl=56 time=182.683 ms\r\n",
      "64 bytes from 216.58.210.142: icmp_seq=3 ttl=56 time=132.569 ms\r\n",
      "64 bytes from 216.58.210.142: icmp_seq=4 ttl=56 time=175.532 ms\r\n",
      "64 bytes from 216.58.210.142: icmp_seq=5 ttl=56 time=89.441 ms\r\n",
      "64 bytes from 216.58.210.142: icmp_seq=6 ttl=56 time=126.602 ms\r\n",
      "64 bytes from 216.58.210.142: icmp_seq=7 ttl=56 time=88.758 ms\r\n",
      "64 bytes from 216.58.210.142: icmp_seq=8 ttl=56 time=95.438 ms\r\n",
      "64 bytes from 216.58.210.142: icmp_seq=9 ttl=56 time=87.930 ms\r\n",
      "64 bytes from 216.58.210.142: icmp_seq=10 ttl=56 time=88.668 ms\r\n",
      "64 bytes from 216.58.210.142: icmp_seq=11 ttl=56 time=97.702 ms\r\n",
      "64 bytes from 216.58.210.142: icmp_seq=12 ttl=56 time=109.296 ms\r\n",
      "64 bytes from 216.58.210.142: icmp_seq=13 ttl=56 time=158.525 ms\r\n",
      "64 bytes from 216.58.210.142: icmp_seq=14 ttl=56 time=101.138 ms\r\n",
      "64 bytes from 216.58.210.142: icmp_seq=15 ttl=56 time=142.604 ms\r\n",
      "64 bytes from 216.58.210.142: icmp_seq=16 ttl=56 time=493.205 ms\r\n",
      "64 bytes from 216.58.210.142: icmp_seq=17 ttl=56 time=112.070 ms\r\n",
      "64 bytes from 216.58.210.142: icmp_seq=18 ttl=56 time=141.516 ms\r\n",
      "64 bytes from 216.58.210.142: icmp_seq=19 ttl=56 time=86.623 ms\r\n",
      "64 bytes from 216.58.210.142: icmp_seq=20 ttl=56 time=107.596 ms\r\n",
      "64 bytes from 216.58.210.142: icmp_seq=21 ttl=56 time=104.282 ms\r\n",
      "64 bytes from 216.58.210.142: icmp_seq=22 ttl=56 time=96.298 ms\r\n",
      "64 bytes from 216.58.210.142: icmp_seq=23 ttl=56 time=91.112 ms\r\n",
      "64 bytes from 216.58.210.142: icmp_seq=24 ttl=56 time=124.657 ms\r\n",
      "64 bytes from 216.58.210.142: icmp_seq=25 ttl=56 time=263.187 ms\r\n",
      "64 bytes from 216.58.210.142: icmp_seq=26 ttl=56 time=162.862 ms\r\n",
      "64 bytes from 216.58.210.142: icmp_seq=27 ttl=56 time=161.826 ms\r\n",
      "64 bytes from 216.58.210.142: icmp_seq=28 ttl=56 time=106.451 ms\r\n",
      "64 bytes from 216.58.210.142: icmp_seq=29 ttl=56 time=87.631 ms\r\n",
      "64 bytes from 216.58.210.142: icmp_seq=30 ttl=56 time=103.670 ms\r\n",
      "64 bytes from 216.58.210.142: icmp_seq=31 ttl=56 time=88.915 ms\r\n",
      "64 bytes from 216.58.210.142: icmp_seq=32 ttl=56 time=104.307 ms\r\n",
      "64 bytes from 216.58.210.142: icmp_seq=33 ttl=56 time=98.456 ms\r\n",
      "64 bytes from 216.58.210.142: icmp_seq=34 ttl=56 time=235.722 ms\r\n",
      "64 bytes from 216.58.210.142: icmp_seq=35 ttl=56 time=134.624 ms\r\n",
      "64 bytes from 216.58.210.142: icmp_seq=36 ttl=56 time=116.979 ms\r\n",
      "64 bytes from 216.58.210.142: icmp_seq=37 ttl=56 time=192.061 ms\r\n",
      "64 bytes from 216.58.210.142: icmp_seq=38 ttl=56 time=126.734 ms\r\n",
      "64 bytes from 216.58.210.142: icmp_seq=39 ttl=56 time=170.020 ms\r\n",
      "64 bytes from 216.58.210.142: icmp_seq=40 ttl=56 time=216.368 ms\r\n",
      "64 bytes from 216.58.210.142: icmp_seq=41 ttl=56 time=126.730 ms\r\n",
      "64 bytes from 216.58.210.142: icmp_seq=42 ttl=56 time=170.535 ms\r\n",
      "64 bytes from 216.58.210.142: icmp_seq=43 ttl=56 time=110.727 ms\r\n",
      "64 bytes from 216.58.210.142: icmp_seq=44 ttl=56 time=81.332 ms\r\n",
      "64 bytes from 216.58.210.142: icmp_seq=45 ttl=56 time=118.296 ms\r\n",
      "64 bytes from 216.58.210.142: icmp_seq=46 ttl=56 time=87.519 ms\r\n",
      "64 bytes from 216.58.210.142: icmp_seq=47 ttl=56 time=101.251 ms\r\n",
      "64 bytes from 216.58.210.142: icmp_seq=48 ttl=56 time=147.426 ms\r\n",
      "64 bytes from 216.58.210.142: icmp_seq=49 ttl=56 time=172.094 ms\r\n",
      "64 bytes from 216.58.210.142: icmp_seq=50 ttl=56 time=135.226 ms\r\n",
      "64 bytes from 216.58.210.142: icmp_seq=51 ttl=56 time=172.725 ms\r\n",
      "64 bytes from 216.58.210.142: icmp_seq=52 ttl=56 time=112.309 ms\r\n",
      "64 bytes from 216.58.210.142: icmp_seq=53 ttl=56 time=96.908 ms\r\n",
      "64 bytes from 216.58.210.142: icmp_seq=54 ttl=56 time=120.396 ms\r\n",
      "64 bytes from 216.58.210.142: icmp_seq=55 ttl=56 time=88.159 ms\r\n",
      "64 bytes from 216.58.210.142: icmp_seq=56 ttl=56 time=119.305 ms\r\n",
      "64 bytes from 216.58.210.142: icmp_seq=57 ttl=56 time=92.110 ms\r\n",
      "64 bytes from 216.58.210.142: icmp_seq=58 ttl=56 time=103.216 ms\r\n",
      "64 bytes from 216.58.210.142: icmp_seq=59 ttl=56 time=103.203 ms\r\n",
      "64 bytes from 216.58.210.142: icmp_seq=60 ttl=56 time=160.340 ms\r\n",
      "64 bytes from 216.58.210.142: icmp_seq=61 ttl=56 time=406.652 ms\r\n",
      "64 bytes from 216.58.210.142: icmp_seq=62 ttl=56 time=141.838 ms\r\n",
      "64 bytes from 216.58.210.142: icmp_seq=63 ttl=56 time=185.121 ms\r\n",
      "64 bytes from 216.58.210.142: icmp_seq=64 ttl=56 time=117.099 ms\r\n",
      "64 bytes from 216.58.210.142: icmp_seq=65 ttl=56 time=145.783 ms\r\n",
      "64 bytes from 216.58.210.142: icmp_seq=66 ttl=56 time=87.651 ms\r\n",
      "64 bytes from 216.58.210.142: icmp_seq=67 ttl=56 time=85.836 ms\r\n",
      "64 bytes from 216.58.210.142: icmp_seq=68 ttl=56 time=95.527 ms\r\n",
      "64 bytes from 216.58.210.142: icmp_seq=69 ttl=56 time=92.894 ms\r\n",
      "64 bytes from 216.58.210.142: icmp_seq=70 ttl=56 time=170.943 ms\r\n",
      "64 bytes from 216.58.210.142: icmp_seq=71 ttl=56 time=148.775 ms\r\n",
      "64 bytes from 216.58.210.142: icmp_seq=72 ttl=56 time=162.664 ms\r\n",
      "64 bytes from 216.58.210.142: icmp_seq=73 ttl=56 time=116.363 ms\r\n",
      "64 bytes from 216.58.210.142: icmp_seq=74 ttl=56 time=152.089 ms\r\n",
      "64 bytes from 216.58.210.142: icmp_seq=75 ttl=56 time=92.933 ms\r\n",
      "64 bytes from 216.58.210.142: icmp_seq=76 ttl=56 time=87.700 ms\r\n",
      "64 bytes from 216.58.210.142: icmp_seq=77 ttl=56 time=96.303 ms\r\n",
      "64 bytes from 216.58.210.142: icmp_seq=78 ttl=56 time=88.144 ms\r\n",
      "64 bytes from 216.58.210.142: icmp_seq=79 ttl=56 time=134.351 ms\r\n",
      "64 bytes from 216.58.210.142: icmp_seq=80 ttl=56 time=121.004 ms\r\n",
      "64 bytes from 216.58.210.142: icmp_seq=81 ttl=56 time=109.304 ms\r\n",
      "64 bytes from 216.58.210.142: icmp_seq=82 ttl=56 time=98.256 ms\r\n",
      "64 bytes from 216.58.210.142: icmp_seq=83 ttl=56 time=131.601 ms\r\n",
      "64 bytes from 216.58.210.142: icmp_seq=84 ttl=56 time=148.352 ms\r\n",
      "64 bytes from 216.58.210.142: icmp_seq=85 ttl=56 time=257.997 ms\r\n",
      "64 bytes from 216.58.210.142: icmp_seq=86 ttl=56 time=158.216 ms\r\n",
      "64 bytes from 216.58.210.142: icmp_seq=87 ttl=56 time=200.045 ms\r\n",
      "64 bytes from 216.58.210.142: icmp_seq=88 ttl=56 time=434.630 ms\r\n",
      "64 bytes from 216.58.210.142: icmp_seq=89 ttl=56 time=155.687 ms\r\n",
      "64 bytes from 216.58.210.142: icmp_seq=90 ttl=56 time=86.795 ms\r\n",
      "64 bytes from 216.58.210.142: icmp_seq=91 ttl=56 time=112.023 ms\r\n",
      "64 bytes from 216.58.210.142: icmp_seq=92 ttl=56 time=98.079 ms\r\n",
      "64 bytes from 216.58.210.142: icmp_seq=93 ttl=56 time=80.225 ms\r\n",
      "64 bytes from 216.58.210.142: icmp_seq=94 ttl=56 time=89.979 ms\r\n",
      "64 bytes from 216.58.210.142: icmp_seq=95 ttl=56 time=125.934 ms\r\n",
      "64 bytes from 216.58.210.142: icmp_seq=96 ttl=56 time=164.050 ms\r\n",
      "64 bytes from 216.58.210.142: icmp_seq=97 ttl=56 time=124.970 ms\r\n",
      "64 bytes from 216.58.210.142: icmp_seq=98 ttl=56 time=169.653 ms\r\n",
      "64 bytes from 216.58.210.142: icmp_seq=99 ttl=56 time=90.386 ms\r\n",
      "64 bytes from 216.58.210.142: icmp_seq=100 ttl=56 time=90.434 ms\r\n",
      "64 bytes from 216.58.210.142: icmp_seq=101 ttl=56 time=80.907 ms\r\n",
      "64 bytes from 216.58.210.142: icmp_seq=102 ttl=56 time=84.043 ms\r\n",
      "64 bytes from 216.58.210.142: icmp_seq=103 ttl=56 time=82.285 ms\r\n",
      "64 bytes from 216.58.210.142: icmp_seq=104 ttl=56 time=84.650 ms\r\n",
      "64 bytes from 216.58.210.142: icmp_seq=105 ttl=56 time=81.214 ms\r\n",
      "64 bytes from 216.58.210.142: icmp_seq=106 ttl=56 time=85.126 ms\r\n",
      "64 bytes from 216.58.210.142: icmp_seq=107 ttl=56 time=135.361 ms\r\n",
      "64 bytes from 216.58.210.142: icmp_seq=108 ttl=56 time=106.098 ms\r\n",
      "64 bytes from 216.58.210.142: icmp_seq=109 ttl=56 time=137.399 ms\r\n",
      "64 bytes from 216.58.210.142: icmp_seq=110 ttl=56 time=181.496 ms\r\n",
      "64 bytes from 216.58.210.142: icmp_seq=111 ttl=56 time=89.081 ms\r\n",
      "64 bytes from 216.58.210.142: icmp_seq=112 ttl=56 time=81.255 ms\r\n",
      "64 bytes from 216.58.210.142: icmp_seq=113 ttl=56 time=80.107 ms\r\n",
      "64 bytes from 216.58.210.142: icmp_seq=114 ttl=56 time=84.661 ms\r\n",
      "64 bytes from 216.58.210.142: icmp_seq=115 ttl=56 time=82.117 ms\r\n",
      "64 bytes from 216.58.210.142: icmp_seq=116 ttl=56 time=82.317 ms\r\n",
      "64 bytes from 216.58.210.142: icmp_seq=117 ttl=56 time=88.318 ms\r\n",
      "64 bytes from 216.58.210.142: icmp_seq=118 ttl=56 time=103.059 ms\r\n",
      "64 bytes from 216.58.210.142: icmp_seq=119 ttl=56 time=144.243 ms\r\n",
      "64 bytes from 216.58.210.142: icmp_seq=120 ttl=56 time=111.485 ms\r\n",
      "64 bytes from 216.58.210.142: icmp_seq=121 ttl=56 time=146.422 ms\r\n",
      "64 bytes from 216.58.210.142: icmp_seq=122 ttl=56 time=93.800 ms\r\n",
      "64 bytes from 216.58.210.142: icmp_seq=123 ttl=56 time=93.237 ms\r\n",
      "64 bytes from 216.58.210.142: icmp_seq=124 ttl=56 time=79.461 ms\r\n",
      "64 bytes from 216.58.210.142: icmp_seq=125 ttl=56 time=91.662 ms\r\n",
      "64 bytes from 216.58.210.142: icmp_seq=126 ttl=56 time=80.929 ms\r\n",
      "64 bytes from 216.58.210.142: icmp_seq=127 ttl=56 time=83.625 ms\r\n",
      "64 bytes from 216.58.210.142: icmp_seq=128 ttl=56 time=87.335 ms\r\n",
      "64 bytes from 216.58.210.142: icmp_seq=129 ttl=56 time=514.680 ms\r\n",
      "64 bytes from 216.58.210.142: icmp_seq=130 ttl=56 time=105.876 ms\r\n",
      "64 bytes from 216.58.210.142: icmp_seq=131 ttl=56 time=176.897 ms\r\n",
      "64 bytes from 216.58.210.142: icmp_seq=132 ttl=56 time=116.861 ms\r\n",
      "64 bytes from 216.58.210.142: icmp_seq=133 ttl=56 time=159.445 ms\r\n",
      "64 bytes from 216.58.210.142: icmp_seq=134 ttl=56 time=87.855 ms\r\n",
      "64 bytes from 216.58.210.142: icmp_seq=135 ttl=56 time=91.808 ms\r\n",
      "64 bytes from 216.58.210.142: icmp_seq=136 ttl=56 time=90.839 ms\r\n",
      "64 bytes from 216.58.210.142: icmp_seq=137 ttl=56 time=88.359 ms\r\n",
      "64 bytes from 216.58.210.142: icmp_seq=138 ttl=56 time=89.451 ms\r\n",
      "64 bytes from 216.58.210.142: icmp_seq=139 ttl=56 time=123.407 ms\r\n",
      "64 bytes from 216.58.210.142: icmp_seq=140 ttl=56 time=90.359 ms\r\n",
      "64 bytes from 216.58.210.142: icmp_seq=141 ttl=56 time=90.110 ms\r\n",
      "64 bytes from 216.58.210.142: icmp_seq=142 ttl=56 time=230.737 ms\r\n",
      "64 bytes from 216.58.210.142: icmp_seq=143 ttl=56 time=168.155 ms\r\n",
      "64 bytes from 216.58.210.142: icmp_seq=144 ttl=56 time=130.661 ms\r\n",
      "64 bytes from 216.58.210.142: icmp_seq=145 ttl=56 time=170.493 ms\r\n",
      "64 bytes from 216.58.210.142: icmp_seq=146 ttl=56 time=90.448 ms\r\n",
      "64 bytes from 216.58.210.142: icmp_seq=147 ttl=56 time=81.734 ms\r\n",
      "64 bytes from 216.58.210.142: icmp_seq=148 ttl=56 time=99.028 ms\r\n",
      "64 bytes from 216.58.210.142: icmp_seq=149 ttl=56 time=84.803 ms\r\n",
      "64 bytes from 216.58.210.142: icmp_seq=150 ttl=56 time=87.351 ms\r\n",
      "64 bytes from 216.58.210.142: icmp_seq=151 ttl=56 time=90.295 ms\r\n",
      "64 bytes from 216.58.210.142: icmp_seq=152 ttl=56 time=86.318 ms\r\n",
      "64 bytes from 216.58.210.142: icmp_seq=153 ttl=56 time=180.653 ms\r\n",
      "64 bytes from 216.58.210.142: icmp_seq=154 ttl=56 time=147.771 ms\r\n",
      "64 bytes from 216.58.210.142: icmp_seq=155 ttl=56 time=102.309 ms\r\n",
      "64 bytes from 216.58.210.142: icmp_seq=156 ttl=56 time=147.521 ms\r\n",
      "64 bytes from 216.58.210.142: icmp_seq=157 ttl=56 time=79.105 ms\r\n",
      "64 bytes from 216.58.210.142: icmp_seq=158 ttl=56 time=84.598 ms\r\n",
      "64 bytes from 216.58.210.142: icmp_seq=159 ttl=56 time=93.513 ms\r\n",
      "64 bytes from 216.58.210.142: icmp_seq=160 ttl=56 time=82.992 ms\r\n",
      "64 bytes from 216.58.210.142: icmp_seq=161 ttl=56 time=100.377 ms\r\n",
      "64 bytes from 216.58.210.142: icmp_seq=162 ttl=56 time=85.691 ms\r\n",
      "64 bytes from 216.58.210.142: icmp_seq=163 ttl=56 time=83.386 ms\r\n",
      "64 bytes from 216.58.210.142: icmp_seq=164 ttl=56 time=88.495 ms\r\n",
      "64 bytes from 216.58.210.142: icmp_seq=165 ttl=56 time=104.453 ms\r\n",
      "64 bytes from 216.58.210.142: icmp_seq=166 ttl=56 time=149.395 ms\r\n",
      "64 bytes from 216.58.210.142: icmp_seq=167 ttl=56 time=115.422 ms\r\n",
      "64 bytes from 216.58.210.142: icmp_seq=168 ttl=56 time=162.393 ms\r\n",
      "64 bytes from 216.58.210.142: icmp_seq=169 ttl=56 time=104.513 ms\r\n",
      "64 bytes from 216.58.210.142: icmp_seq=170 ttl=56 time=81.683 ms\r\n",
      "64 bytes from 216.58.210.142: icmp_seq=171 ttl=56 time=80.775 ms\r\n",
      "64 bytes from 216.58.210.142: icmp_seq=172 ttl=56 time=87.368 ms\r\n",
      "64 bytes from 216.58.210.142: icmp_seq=173 ttl=56 time=96.467 ms\r\n",
      "64 bytes from 216.58.210.142: icmp_seq=174 ttl=56 time=91.115 ms\r\n",
      "64 bytes from 216.58.210.142: icmp_seq=175 ttl=56 time=97.989 ms\r\n",
      "64 bytes from 216.58.210.142: icmp_seq=176 ttl=56 time=108.740 ms\r\n",
      "64 bytes from 216.58.210.142: icmp_seq=177 ttl=56 time=137.488 ms\r\n",
      "64 bytes from 216.58.210.142: icmp_seq=178 ttl=56 time=379.558 ms\r\n",
      "64 bytes from 216.58.210.142: icmp_seq=179 ttl=56 time=130.565 ms\r\n",
      "64 bytes from 216.58.210.142: icmp_seq=180 ttl=56 time=176.624 ms\r\n",
      "64 bytes from 216.58.210.142: icmp_seq=181 ttl=56 time=217.491 ms\r\n",
      "64 bytes from 216.58.210.142: icmp_seq=182 ttl=56 time=133.777 ms\r\n",
      "64 bytes from 216.58.210.142: icmp_seq=183 ttl=56 time=177.442 ms\r\n",
      "64 bytes from 216.58.210.142: icmp_seq=184 ttl=56 time=102.232 ms\r\n",
      "64 bytes from 216.58.210.142: icmp_seq=185 ttl=56 time=88.072 ms\r\n",
      "64 bytes from 216.58.210.142: icmp_seq=186 ttl=56 time=103.289 ms\r\n",
      "64 bytes from 216.58.210.142: icmp_seq=187 ttl=56 time=159.089 ms\r\n",
      "64 bytes from 216.58.210.142: icmp_seq=188 ttl=56 time=103.983 ms\r\n",
      "64 bytes from 216.58.210.142: icmp_seq=189 ttl=56 time=152.708 ms\r\n",
      "64 bytes from 216.58.210.142: icmp_seq=190 ttl=56 time=101.027 ms\r\n",
      "64 bytes from 216.58.210.142: icmp_seq=191 ttl=56 time=145.761 ms\r\n",
      "64 bytes from 216.58.210.142: icmp_seq=192 ttl=56 time=83.397 ms\r\n",
      "64 bytes from 216.58.210.142: icmp_seq=193 ttl=56 time=85.743 ms\r\n",
      "64 bytes from 216.58.210.142: icmp_seq=194 ttl=56 time=93.864 ms\r\n",
      "64 bytes from 216.58.210.142: icmp_seq=195 ttl=56 time=87.079 ms\r\n",
      "64 bytes from 216.58.210.142: icmp_seq=196 ttl=56 time=140.746 ms\r\n",
      "64 bytes from 216.58.210.142: icmp_seq=197 ttl=56 time=104.462 ms\r\n",
      "64 bytes from 216.58.210.142: icmp_seq=198 ttl=56 time=139.835 ms\r\n",
      "64 bytes from 216.58.210.142: icmp_seq=199 ttl=56 time=134.973 ms\r\n",
      "64 bytes from 216.58.210.142: icmp_seq=200 ttl=56 time=116.266 ms\r\n",
      "64 bytes from 216.58.210.142: icmp_seq=201 ttl=56 time=170.969 ms\r\n",
      "64 bytes from 216.58.210.142: icmp_seq=202 ttl=56 time=111.784 ms\r\n",
      "64 bytes from 216.58.210.142: icmp_seq=203 ttl=56 time=155.311 ms\r\n",
      "64 bytes from 216.58.210.142: icmp_seq=204 ttl=56 time=201.885 ms\r\n",
      "64 bytes from 216.58.210.142: icmp_seq=205 ttl=56 time=446.762 ms\r\n",
      "64 bytes from 216.58.210.142: icmp_seq=206 ttl=56 time=166.834 ms\r\n",
      "64 bytes from 216.58.210.142: icmp_seq=207 ttl=56 time=89.280 ms\r\n",
      "64 bytes from 216.58.210.142: icmp_seq=208 ttl=56 time=97.005 ms\r\n",
      "64 bytes from 216.58.210.142: icmp_seq=209 ttl=56 time=88.456 ms\r\n",
      "64 bytes from 216.58.210.142: icmp_seq=210 ttl=56 time=102.325 ms\r\n",
      "64 bytes from 216.58.210.142: icmp_seq=211 ttl=56 time=89.612 ms\r\n",
      "64 bytes from 216.58.210.142: icmp_seq=212 ttl=56 time=139.063 ms\r\n",
      "64 bytes from 216.58.210.142: icmp_seq=213 ttl=56 time=163.727 ms\r\n",
      "64 bytes from 216.58.210.142: icmp_seq=214 ttl=56 time=122.816 ms\r\n",
      "64 bytes from 216.58.210.142: icmp_seq=215 ttl=56 time=176.098 ms\r\n",
      "64 bytes from 216.58.210.142: icmp_seq=216 ttl=56 time=88.836 ms\r\n",
      "64 bytes from 216.58.210.142: icmp_seq=217 ttl=56 time=80.114 ms\r\n",
      "64 bytes from 216.58.210.142: icmp_seq=218 ttl=56 time=88.534 ms\r\n",
      "64 bytes from 216.58.210.142: icmp_seq=219 ttl=56 time=81.518 ms\r\n",
      "64 bytes from 216.58.210.142: icmp_seq=220 ttl=56 time=90.263 ms\r\n",
      "64 bytes from 216.58.210.142: icmp_seq=221 ttl=56 time=96.746 ms\r\n",
      "64 bytes from 216.58.210.142: icmp_seq=222 ttl=56 time=97.943 ms\r\n",
      "64 bytes from 216.58.210.142: icmp_seq=223 ttl=56 time=105.509 ms\r\n",
      "64 bytes from 216.58.210.142: icmp_seq=224 ttl=56 time=139.198 ms\r\n",
      "64 bytes from 216.58.210.142: icmp_seq=225 ttl=56 time=122.205 ms\r\n",
      "64 bytes from 216.58.210.142: icmp_seq=226 ttl=56 time=156.517 ms\r\n",
      "64 bytes from 216.58.210.142: icmp_seq=227 ttl=56 time=88.276 ms\r\n",
      "64 bytes from 216.58.210.142: icmp_seq=228 ttl=56 time=89.427 ms\r\n",
      "64 bytes from 216.58.210.142: icmp_seq=229 ttl=56 time=83.509 ms\r\n",
      "64 bytes from 216.58.210.142: icmp_seq=230 ttl=56 time=93.258 ms\r\n",
      "64 bytes from 216.58.210.142: icmp_seq=231 ttl=56 time=91.435 ms\r\n",
      "64 bytes from 216.58.210.142: icmp_seq=232 ttl=56 time=87.172 ms\r\n",
      "64 bytes from 216.58.210.142: icmp_seq=233 ttl=56 time=98.661 ms\r\n",
      "64 bytes from 216.58.210.142: icmp_seq=234 ttl=56 time=89.822 ms\r\n",
      "64 bytes from 216.58.210.142: icmp_seq=235 ttl=56 time=124.846 ms\r\n",
      "64 bytes from 216.58.210.142: icmp_seq=236 ttl=56 time=174.149 ms\r\n",
      "64 bytes from 216.58.210.142: icmp_seq=237 ttl=56 time=131.220 ms\r\n",
      "64 bytes from 216.58.210.142: icmp_seq=238 ttl=56 time=172.730 ms\r\n",
      "64 bytes from 216.58.210.142: icmp_seq=239 ttl=56 time=81.923 ms\r\n",
      "64 bytes from 216.58.210.142: icmp_seq=240 ttl=56 time=89.036 ms\r\n",
      "64 bytes from 216.58.210.142: icmp_seq=241 ttl=56 time=101.456 ms\r\n",
      "64 bytes from 216.58.210.142: icmp_seq=242 ttl=56 time=81.322 ms\r\n",
      "64 bytes from 216.58.210.142: icmp_seq=243 ttl=56 time=86.504 ms\r\n",
      "64 bytes from 216.58.210.142: icmp_seq=244 ttl=56 time=88.311 ms\r\n",
      "64 bytes from 216.58.210.142: icmp_seq=245 ttl=56 time=87.222 ms\r\n",
      "64 bytes from 216.58.210.142: icmp_seq=246 ttl=56 time=86.262 ms\r\n",
      "64 bytes from 216.58.210.142: icmp_seq=247 ttl=56 time=133.368 ms\r\n",
      "64 bytes from 216.58.210.142: icmp_seq=248 ttl=56 time=101.742 ms\r\n",
      "64 bytes from 216.58.210.142: icmp_seq=249 ttl=56 time=143.379 ms\r\n",
      "64 bytes from 216.58.210.142: icmp_seq=250 ttl=56 time=85.713 ms\r\n",
      "64 bytes from 216.58.210.142: icmp_seq=251 ttl=56 time=92.856 ms\r\n",
      "64 bytes from 216.58.210.142: icmp_seq=252 ttl=56 time=101.624 ms\r\n",
      "64 bytes from 216.58.210.142: icmp_seq=253 ttl=56 time=103.598 ms\r\n",
      "64 bytes from 216.58.210.142: icmp_seq=254 ttl=56 time=119.623 ms\r\n",
      "64 bytes from 216.58.210.142: icmp_seq=255 ttl=56 time=86.781 ms\r\n",
      "64 bytes from 216.58.210.142: icmp_seq=256 ttl=56 time=92.136 ms\r\n",
      "64 bytes from 216.58.210.142: icmp_seq=257 ttl=56 time=91.777 ms\r\n",
      "64 bytes from 216.58.210.142: icmp_seq=258 ttl=56 time=113.441 ms\r\n",
      "64 bytes from 216.58.210.142: icmp_seq=259 ttl=56 time=255.353 ms\r\n",
      "64 bytes from 216.58.210.142: icmp_seq=260 ttl=56 time=112.758 ms\r\n",
      "64 bytes from 216.58.210.142: icmp_seq=261 ttl=56 time=153.430 ms\r\n",
      "64 bytes from 216.58.210.142: icmp_seq=262 ttl=56 time=97.835 ms\r\n",
      "64 bytes from 216.58.210.142: icmp_seq=263 ttl=56 time=82.425 ms\r\n",
      "64 bytes from 216.58.210.142: icmp_seq=264 ttl=56 time=100.661 ms\r\n",
      "64 bytes from 216.58.210.142: icmp_seq=265 ttl=56 time=96.007 ms\r\n",
      "64 bytes from 216.58.210.142: icmp_seq=266 ttl=56 time=91.377 ms\r\n",
      "64 bytes from 216.58.210.142: icmp_seq=267 ttl=56 time=107.655 ms\r\n",
      "64 bytes from 216.58.210.142: icmp_seq=268 ttl=56 time=232.319 ms\r\n",
      "64 bytes from 216.58.210.142: icmp_seq=269 ttl=56 time=151.507 ms\r\n",
      "64 bytes from 216.58.210.142: icmp_seq=270 ttl=56 time=125.934 ms\r\n",
      "64 bytes from 216.58.210.142: icmp_seq=271 ttl=56 time=155.499 ms\r\n",
      "64 bytes from 216.58.210.142: icmp_seq=272 ttl=56 time=114.745 ms\r\n",
      "64 bytes from 216.58.210.142: icmp_seq=273 ttl=56 time=158.406 ms\r\n",
      "64 bytes from 216.58.210.142: icmp_seq=274 ttl=56 time=202.592 ms\r\n",
      "64 bytes from 216.58.210.142: icmp_seq=275 ttl=56 time=117.288 ms\r\n",
      "64 bytes from 216.58.210.142: icmp_seq=276 ttl=56 time=162.842 ms\r\n",
      "64 bytes from 216.58.210.142: icmp_seq=277 ttl=56 time=98.272 ms\r\n",
      "64 bytes from 216.58.210.142: icmp_seq=278 ttl=56 time=89.222 ms\r\n",
      "64 bytes from 216.58.210.142: icmp_seq=279 ttl=56 time=91.914 ms\r\n",
      "64 bytes from 216.58.210.142: icmp_seq=280 ttl=56 time=86.823 ms\r\n",
      "64 bytes from 216.58.210.142: icmp_seq=281 ttl=56 time=102.367 ms\r\n",
      "^C\r\n",
      "\r\n",
      "--- google.com ping statistics ---\r\n",
      "283 packets transmitted, 283 packets received, 0.0% packet loss\r\n",
      "round-trip min/avg/max/stddev = 79.105/125.042/514.680/60.202 ms\r\n"
     ]
    }
   ],
   "source": [
    "! ping google.com"
   ],
   "metadata": {
    "collapsed": false,
    "ExecuteTime": {
     "end_time": "2023-09-21T07:09:10.853137Z",
     "start_time": "2023-09-21T07:04:27.312236Z"
    }
   },
   "id": "2ee494635a2f38bc"
  },
  {
   "cell_type": "markdown",
   "source": [
    "1. Почему для работы с большими данными и для машинного обучения выбирают язык Python?\n",
    "Простота использования: Python - легкий и читаемый язык, что делает его привлекательным для исследователей данных и аналитиков.\n",
    "Большие библиотеки: Python имеет обширную экосистему библиотек, таких как NumPy, pandas, scikit-learn, TensorFlow и PyTorch, специализированных на анализе данных и машинном обучении.\n",
    "Активное сообщество: Python имеет большое и активное сообщество разработчиков, что способствует созданию и обмену знаниями и решениями.\n",
    "2. В чем особенности среды Jupyter Notebook, почему ее выбирают специалисты по Data Science?\n",
    "Интерактивность: Jupyter Notebook позволяет выполнять код по ячейкам, что удобно для анализа данных и мгновенного получения результатов.\n",
    "Визуализация: Легко создавать графику и визуализации прямо в ноутбуке, что помогает исследователям визуализировать данные.\n",
    "Поддержка разных языков: Поддерживает не только Python, но и другие языки программирования, что полезно при интеграции различных инструментов.\n",
    "Документация и комментарии: Можно добавлять описания и комментарии к коду, что делает ноутбуки отличным инструментом для создания документации и отчетов.\n",
    "3. Перечислите основные библиотеки Python для машинного обучения:\n",
    "scikit-learn\n",
    "TensorFlow\n",
    "PyTorch\n",
    "Keras\n",
    "pandas\n",
    "NumPy\n",
    "Matplotlib\n",
    "Seaborn\n",
    "XGBoost\n",
    "LightGBM\n",
    "CatBoost\n",
    "4. Какие типы данных Python вы знаете?\n",
    "Числа (int, float)\n",
    "Строки (str)\n",
    "Списки (list)\n",
    "Кортежи (tuple)\n",
    "Множества (set)\n",
    "Словари (dict)\n",
    "Булевы значения (bool)\n",
    "None (специальное значение, обозначающее отсутствие значения)\n",
    "5. Назовите основные языковые конструкции Python:\n",
    "Условные операторы (if-elif-else)\n",
    "Циклы (for, while)\n",
    "Функции (def)\n",
    "Классы и объекты (class)\n",
    "Исключения (try-except)\n",
    "Вывод данных (print)\n",
    "Операторы (арифметические, логические и др.)\n",
    "6. Какое назначение у оператора if … else?\n",
    "Оператор if ... else используется для выполнения разных действий в зависимости от условия. Если условие истинно, выполняется блок кода после if, иначе выполняется блок кода после else.\n",
    "7. Когда заканчивается выполнение оператора while?\n",
    "Выполнение оператора while заканчивается, когда условие, указанное после while, становится ложным. Только после этого выполнение продолжается за пределами цикла.\n",
    "8. Какие способы задания функций есть в Python?\n",
    "Функции в Python можно определить с помощью ключевого слова def. Существует также возможность создания анонимных функций с помощью лямбда-функций.\n",
    "9. Что такое Лямбда-функция?\n",
    "Лямбда-функция (или анонимная функция) - это маленькая функция без имени, которая может содержать только одно выражение. Она создается с помощью ключевого слова lambda и обычно используется для краткосрочных операций.\n",
    "10. Какая библиотека Python отвечает за выполнение основных математических функций?\n",
    "Библиотека Python, отвечающая за выполнение основных математических функций, называется math.\n",
    "11. Назовите дополнительные возможности использования среды Jupyter Notebook.\n",
    "Создание интерактивных документов.\n",
    "Интеграция с различными библиотеками и языками программирования.\n",
    "Использование Markdown для структурирования и документации.\n",
    "Генерация отчетов и презентаций на основе ноутбуков.\n",
    "Визуализация данных с помощью библиотек, таких как Matplotlib и Seaborn."
   ],
   "metadata": {
    "collapsed": false
   },
   "id": "482e307c4f8e269b"
  }
 ],
 "metadata": {
  "kernelspec": {
   "display_name": "Python 3",
   "language": "python",
   "name": "python3"
  },
  "language_info": {
   "codemirror_mode": {
    "name": "ipython",
    "version": 2
   },
   "file_extension": ".py",
   "mimetype": "text/x-python",
   "name": "python",
   "nbconvert_exporter": "python",
   "pygments_lexer": "ipython2",
   "version": "2.7.6"
  }
 },
 "nbformat": 4,
 "nbformat_minor": 5
}
